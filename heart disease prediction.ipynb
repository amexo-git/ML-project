{
 "cells": [
  {
   "cell_type": "markdown",
   "id": "d03ec535",
   "metadata": {},
   "source": [
    "## #1 import the libraries"
   ]
  },
  {
   "cell_type": "code",
   "execution_count": 1,
   "id": "e678d409",
   "metadata": {},
   "outputs": [],
   "source": [
    "import pandas as pd\n",
    "import numpy as np\n",
    "import seaborn as sns\n",
    "# scientific ploting lib \n",
    "import matplotlib.pyplot as plt\n",
    "# allow plots appear with in notebook\n",
    "%matplotlib inline \n",
    "\n",
    "from sklearn.model_selection import train_test_split\n",
    "from sklearn.preprocessing import MinMaxScaler\n",
    "from sklearn.preprocessing import StandardScaler\n",
    "\n",
    "from sklearn.neighbors import KNeighborsClassifier\n",
    "\n",
    "from sklearn.metrics import accuracy_score\n",
    "from sklearn.metrics import confusion_matrix\n",
    "from sklearn.metrics import classification_report\n",
    "\n",
    "\n",
    "from sklearn.model_selection import GridSearchCV\n"
   ]
  },
  {
   "cell_type": "markdown",
   "id": "dde0497b",
   "metadata": {},
   "source": [
    " ## #2.Importing the Dataset"
   ]
  },
  {
   "cell_type": "code",
   "execution_count": 2,
   "id": "ac1648d0",
   "metadata": {},
   "outputs": [],
   "source": [
    "df=pd.read_csv(\"heart_dataset.csv\")"
   ]
  },
  {
   "cell_type": "code",
   "execution_count": 3,
   "id": "8b940e4f",
   "metadata": {},
   "outputs": [
    {
     "data": {
      "text/html": [
       "<div>\n",
       "<style scoped>\n",
       "    .dataframe tbody tr th:only-of-type {\n",
       "        vertical-align: middle;\n",
       "    }\n",
       "\n",
       "    .dataframe tbody tr th {\n",
       "        vertical-align: top;\n",
       "    }\n",
       "\n",
       "    .dataframe thead th {\n",
       "        text-align: right;\n",
       "    }\n",
       "</style>\n",
       "<table border=\"1\" class=\"dataframe\">\n",
       "  <thead>\n",
       "    <tr style=\"text-align: right;\">\n",
       "      <th></th>\n",
       "      <th>age</th>\n",
       "      <th>sex</th>\n",
       "      <th>cp</th>\n",
       "      <th>trestbps</th>\n",
       "      <th>chol</th>\n",
       "      <th>fbs</th>\n",
       "      <th>restecg</th>\n",
       "      <th>thalach</th>\n",
       "      <th>exang</th>\n",
       "      <th>oldpeak</th>\n",
       "      <th>slope</th>\n",
       "      <th>ca</th>\n",
       "      <th>thal</th>\n",
       "      <th>target</th>\n",
       "    </tr>\n",
       "  </thead>\n",
       "  <tbody>\n",
       "    <tr>\n",
       "      <th>0</th>\n",
       "      <td>52</td>\n",
       "      <td>1</td>\n",
       "      <td>0</td>\n",
       "      <td>125</td>\n",
       "      <td>212</td>\n",
       "      <td>0</td>\n",
       "      <td>1</td>\n",
       "      <td>168</td>\n",
       "      <td>0</td>\n",
       "      <td>1.0</td>\n",
       "      <td>2</td>\n",
       "      <td>2</td>\n",
       "      <td>3</td>\n",
       "      <td>0</td>\n",
       "    </tr>\n",
       "    <tr>\n",
       "      <th>1</th>\n",
       "      <td>53</td>\n",
       "      <td>1</td>\n",
       "      <td>0</td>\n",
       "      <td>140</td>\n",
       "      <td>203</td>\n",
       "      <td>1</td>\n",
       "      <td>0</td>\n",
       "      <td>155</td>\n",
       "      <td>1</td>\n",
       "      <td>3.1</td>\n",
       "      <td>0</td>\n",
       "      <td>0</td>\n",
       "      <td>3</td>\n",
       "      <td>0</td>\n",
       "    </tr>\n",
       "    <tr>\n",
       "      <th>2</th>\n",
       "      <td>70</td>\n",
       "      <td>1</td>\n",
       "      <td>0</td>\n",
       "      <td>145</td>\n",
       "      <td>174</td>\n",
       "      <td>0</td>\n",
       "      <td>1</td>\n",
       "      <td>125</td>\n",
       "      <td>1</td>\n",
       "      <td>2.6</td>\n",
       "      <td>0</td>\n",
       "      <td>0</td>\n",
       "      <td>3</td>\n",
       "      <td>0</td>\n",
       "    </tr>\n",
       "    <tr>\n",
       "      <th>3</th>\n",
       "      <td>61</td>\n",
       "      <td>1</td>\n",
       "      <td>0</td>\n",
       "      <td>148</td>\n",
       "      <td>203</td>\n",
       "      <td>0</td>\n",
       "      <td>1</td>\n",
       "      <td>161</td>\n",
       "      <td>0</td>\n",
       "      <td>0.0</td>\n",
       "      <td>2</td>\n",
       "      <td>1</td>\n",
       "      <td>3</td>\n",
       "      <td>0</td>\n",
       "    </tr>\n",
       "    <tr>\n",
       "      <th>4</th>\n",
       "      <td>62</td>\n",
       "      <td>0</td>\n",
       "      <td>0</td>\n",
       "      <td>138</td>\n",
       "      <td>294</td>\n",
       "      <td>1</td>\n",
       "      <td>1</td>\n",
       "      <td>106</td>\n",
       "      <td>0</td>\n",
       "      <td>1.9</td>\n",
       "      <td>1</td>\n",
       "      <td>3</td>\n",
       "      <td>2</td>\n",
       "      <td>0</td>\n",
       "    </tr>\n",
       "    <tr>\n",
       "      <th>...</th>\n",
       "      <td>...</td>\n",
       "      <td>...</td>\n",
       "      <td>...</td>\n",
       "      <td>...</td>\n",
       "      <td>...</td>\n",
       "      <td>...</td>\n",
       "      <td>...</td>\n",
       "      <td>...</td>\n",
       "      <td>...</td>\n",
       "      <td>...</td>\n",
       "      <td>...</td>\n",
       "      <td>...</td>\n",
       "      <td>...</td>\n",
       "      <td>...</td>\n",
       "    </tr>\n",
       "    <tr>\n",
       "      <th>297</th>\n",
       "      <td>68</td>\n",
       "      <td>0</td>\n",
       "      <td>2</td>\n",
       "      <td>120</td>\n",
       "      <td>211</td>\n",
       "      <td>0</td>\n",
       "      <td>0</td>\n",
       "      <td>115</td>\n",
       "      <td>0</td>\n",
       "      <td>1.5</td>\n",
       "      <td>1</td>\n",
       "      <td>0</td>\n",
       "      <td>2</td>\n",
       "      <td>1</td>\n",
       "    </tr>\n",
       "    <tr>\n",
       "      <th>298</th>\n",
       "      <td>44</td>\n",
       "      <td>0</td>\n",
       "      <td>2</td>\n",
       "      <td>108</td>\n",
       "      <td>141</td>\n",
       "      <td>0</td>\n",
       "      <td>1</td>\n",
       "      <td>175</td>\n",
       "      <td>0</td>\n",
       "      <td>0.6</td>\n",
       "      <td>1</td>\n",
       "      <td>0</td>\n",
       "      <td>2</td>\n",
       "      <td>1</td>\n",
       "    </tr>\n",
       "    <tr>\n",
       "      <th>299</th>\n",
       "      <td>52</td>\n",
       "      <td>1</td>\n",
       "      <td>0</td>\n",
       "      <td>128</td>\n",
       "      <td>255</td>\n",
       "      <td>0</td>\n",
       "      <td>1</td>\n",
       "      <td>161</td>\n",
       "      <td>1</td>\n",
       "      <td>0.0</td>\n",
       "      <td>2</td>\n",
       "      <td>1</td>\n",
       "      <td>3</td>\n",
       "      <td>0</td>\n",
       "    </tr>\n",
       "    <tr>\n",
       "      <th>300</th>\n",
       "      <td>59</td>\n",
       "      <td>1</td>\n",
       "      <td>3</td>\n",
       "      <td>160</td>\n",
       "      <td>273</td>\n",
       "      <td>0</td>\n",
       "      <td>0</td>\n",
       "      <td>125</td>\n",
       "      <td>0</td>\n",
       "      <td>0.0</td>\n",
       "      <td>2</td>\n",
       "      <td>0</td>\n",
       "      <td>2</td>\n",
       "      <td>0</td>\n",
       "    </tr>\n",
       "    <tr>\n",
       "      <th>301</th>\n",
       "      <td>54</td>\n",
       "      <td>1</td>\n",
       "      <td>0</td>\n",
       "      <td>120</td>\n",
       "      <td>188</td>\n",
       "      <td>0</td>\n",
       "      <td>1</td>\n",
       "      <td>113</td>\n",
       "      <td>0</td>\n",
       "      <td>1.4</td>\n",
       "      <td>1</td>\n",
       "      <td>1</td>\n",
       "      <td>3</td>\n",
       "      <td>0</td>\n",
       "    </tr>\n",
       "  </tbody>\n",
       "</table>\n",
       "<p>302 rows × 14 columns</p>\n",
       "</div>"
      ],
      "text/plain": [
       "     age  sex  cp  trestbps  chol  fbs  restecg  thalach  exang  oldpeak  \\\n",
       "0     52    1   0       125   212    0        1      168      0      1.0   \n",
       "1     53    1   0       140   203    1        0      155      1      3.1   \n",
       "2     70    1   0       145   174    0        1      125      1      2.6   \n",
       "3     61    1   0       148   203    0        1      161      0      0.0   \n",
       "4     62    0   0       138   294    1        1      106      0      1.9   \n",
       "..   ...  ...  ..       ...   ...  ...      ...      ...    ...      ...   \n",
       "297   68    0   2       120   211    0        0      115      0      1.5   \n",
       "298   44    0   2       108   141    0        1      175      0      0.6   \n",
       "299   52    1   0       128   255    0        1      161      1      0.0   \n",
       "300   59    1   3       160   273    0        0      125      0      0.0   \n",
       "301   54    1   0       120   188    0        1      113      0      1.4   \n",
       "\n",
       "     slope  ca  thal  target  \n",
       "0        2   2     3       0  \n",
       "1        0   0     3       0  \n",
       "2        0   0     3       0  \n",
       "3        2   1     3       0  \n",
       "4        1   3     2       0  \n",
       "..     ...  ..   ...     ...  \n",
       "297      1   0     2       1  \n",
       "298      1   0     2       1  \n",
       "299      2   1     3       0  \n",
       "300      2   0     2       0  \n",
       "301      1   1     3       0  \n",
       "\n",
       "[302 rows x 14 columns]"
      ]
     },
     "execution_count": 3,
     "metadata": {},
     "output_type": "execute_result"
    }
   ],
   "source": [
    "df"
   ]
  },
  {
   "cell_type": "code",
   "execution_count": 4,
   "id": "0d2281e6",
   "metadata": {},
   "outputs": [],
   "source": [
    "# df['age'].unique()\n"
   ]
  },
  {
   "cell_type": "markdown",
   "id": "1cbf9972",
   "metadata": {},
   "source": [
    " ## #3 Preprocessing"
   ]
  },
  {
   "cell_type": "markdown",
   "id": "c7f11477",
   "metadata": {},
   "source": [
    "  #Taking care of missing values and duplicate values"
   ]
  },
  {
   "cell_type": "code",
   "execution_count": 5,
   "id": "73e64f94",
   "metadata": {},
   "outputs": [
    {
     "name": "stdout",
     "output_type": "stream",
     "text": [
      "Null checking: {'age': 0, 'sex': 0, 'cp': 0, 'trestbps': 0, 'chol': 0, 'fbs': 0, 'restecg': 0, 'thalach': 0, 'exang': 0, 'oldpeak': 0, 'slope': 0, 'ca': 0, 'thal': 0, 'target': 0}\n",
      "Null checking1: {'age': False, 'sex': False, 'cp': False, 'trestbps': False, 'chol': False, 'fbs': False, 'restecg': False, 'thalach': False, 'exang': False, 'oldpeak': False, 'slope': False, 'ca': False, 'thal': False, 'target': False}\n",
      "Duplicate checking: False\n"
     ]
    }
   ],
   "source": [
    "print(\"Null checking:\",dict(df.isna().sum()))\n",
    "print(\"Null checking1:\",dict(df.isna().any()))\n",
    "print(\"Duplicate checking:\",df.duplicated().any())"
   ]
  },
  {
   "cell_type": "code",
   "execution_count": 6,
   "id": "cab3ea0e",
   "metadata": {},
   "outputs": [
    {
     "data": {
      "text/plain": [
       "(302, 14)"
      ]
     },
     "execution_count": 6,
     "metadata": {},
     "output_type": "execute_result"
    }
   ],
   "source": [
    "df.dropna().shape"
   ]
  },
  {
   "cell_type": "code",
   "execution_count": 7,
   "id": "c336d8df",
   "metadata": {},
   "outputs": [
    {
     "data": {
      "text/plain": [
       "<AxesSubplot:>"
      ]
     },
     "execution_count": 7,
     "metadata": {},
     "output_type": "execute_result"
    },
    {
     "data": {
      "image/png": "[encoded data removed]",
      "text/plain": [
       "<Figure size 432x288 with 2 Axes>"
      ]
     },
     "metadata": {
      "needs_background": "light"
     },
     "output_type": "display_data"
    }
   ],
   "source": [
    "# visualizing null checking\n",
    "sns.heatmap(df.isnull(),yticklabels=False,annot=True)"
   ]
  },
  {
   "cell_type": "markdown",
   "id": "4dfc1785",
   "metadata": {},
   "source": [
    "#Get info about dataset"
   ]
  },
  {
   "cell_type": "code",
   "execution_count": 8,
   "id": "416376c4",
   "metadata": {},
   "outputs": [
    {
     "name": "stdout",
     "output_type": "stream",
     "text": [
      "<class 'pandas.core.frame.DataFrame'>\n",
      "RangeIndex: 302 entries, 0 to 301\n",
      "Data columns (total 14 columns):\n",
      " #   Column    Non-Null Count  Dtype  \n",
      "---  ------    --------------  -----  \n",
      " 0   age       302 non-null    int64  \n",
      " 1   sex       302 non-null    int64  \n",
      " 2   cp        302 non-null    int64  \n",
      " 3   trestbps  302 non-null    int64  \n",
      " 4   chol      302 non-null    int64  \n",
      " 5   fbs       302 non-null    int64  \n",
      " 6   restecg   302 non-null    int64  \n",
      " 7   thalach   302 non-null    int64  \n",
      " 8   exang     302 non-null    int64  \n",
      " 9   oldpeak   302 non-null    float64\n",
      " 10  slope     302 non-null    int64  \n",
      " 11  ca        302 non-null    int64  \n",
      " 12  thal      302 non-null    int64  \n",
      " 13  target    302 non-null    int64  \n",
      "dtypes: float64(1), int64(13)\n",
      "memory usage: 33.2 KB\n"
     ]
    }
   ],
   "source": [
    "df.info()"
   ]
  },
  {
   "cell_type": "markdown",
   "id": "22afc223",
   "metadata": {},
   "source": [
    "#Get over all  statistic of dataset"
   ]
  },
  {
   "cell_type": "code",
   "execution_count": 9,
   "id": "7f1c6314",
   "metadata": {},
   "outputs": [
    {
     "data": {
      "text/html": [
       "<div>\n",
       "<style scoped>\n",
       "    .dataframe tbody tr th:only-of-type {\n",
       "        vertical-align: middle;\n",
       "    }\n",
       "\n",
       "    .dataframe tbody tr th {\n",
       "        vertical-align: top;\n",
       "    }\n",
       "\n",
       "    .dataframe thead th {\n",
       "        text-align: right;\n",
       "    }\n",
       "</style>\n",
       "<table border=\"1\" class=\"dataframe\">\n",
       "  <thead>\n",
       "    <tr style=\"text-align: right;\">\n",
       "      <th></th>\n",
       "      <th>age</th>\n",
       "      <th>sex</th>\n",
       "      <th>cp</th>\n",
       "      <th>trestbps</th>\n",
       "      <th>chol</th>\n",
       "      <th>fbs</th>\n",
       "      <th>restecg</th>\n",
       "      <th>thalach</th>\n",
       "      <th>exang</th>\n",
       "      <th>oldpeak</th>\n",
       "      <th>slope</th>\n",
       "      <th>ca</th>\n",
       "      <th>thal</th>\n",
       "      <th>target</th>\n",
       "    </tr>\n",
       "  </thead>\n",
       "  <tbody>\n",
       "    <tr>\n",
       "      <th>count</th>\n",
       "      <td>302.00000</td>\n",
       "      <td>302.000000</td>\n",
       "      <td>302.000000</td>\n",
       "      <td>302.000000</td>\n",
       "      <td>302.000000</td>\n",
       "      <td>302.000000</td>\n",
       "      <td>302.000000</td>\n",
       "      <td>302.000000</td>\n",
       "      <td>302.000000</td>\n",
       "      <td>302.000000</td>\n",
       "      <td>302.000000</td>\n",
       "      <td>302.000000</td>\n",
       "      <td>302.000000</td>\n",
       "      <td>302.000000</td>\n",
       "    </tr>\n",
       "    <tr>\n",
       "      <th>mean</th>\n",
       "      <td>54.42053</td>\n",
       "      <td>0.682119</td>\n",
       "      <td>0.963576</td>\n",
       "      <td>131.602649</td>\n",
       "      <td>246.500000</td>\n",
       "      <td>0.149007</td>\n",
       "      <td>0.526490</td>\n",
       "      <td>149.569536</td>\n",
       "      <td>0.327815</td>\n",
       "      <td>1.043046</td>\n",
       "      <td>1.397351</td>\n",
       "      <td>0.718543</td>\n",
       "      <td>2.314570</td>\n",
       "      <td>0.543046</td>\n",
       "    </tr>\n",
       "    <tr>\n",
       "      <th>std</th>\n",
       "      <td>9.04797</td>\n",
       "      <td>0.466426</td>\n",
       "      <td>1.032044</td>\n",
       "      <td>17.563394</td>\n",
       "      <td>51.753489</td>\n",
       "      <td>0.356686</td>\n",
       "      <td>0.526027</td>\n",
       "      <td>22.903527</td>\n",
       "      <td>0.470196</td>\n",
       "      <td>1.161452</td>\n",
       "      <td>0.616274</td>\n",
       "      <td>1.006748</td>\n",
       "      <td>0.613026</td>\n",
       "      <td>0.498970</td>\n",
       "    </tr>\n",
       "    <tr>\n",
       "      <th>min</th>\n",
       "      <td>29.00000</td>\n",
       "      <td>0.000000</td>\n",
       "      <td>0.000000</td>\n",
       "      <td>94.000000</td>\n",
       "      <td>126.000000</td>\n",
       "      <td>0.000000</td>\n",
       "      <td>0.000000</td>\n",
       "      <td>71.000000</td>\n",
       "      <td>0.000000</td>\n",
       "      <td>0.000000</td>\n",
       "      <td>0.000000</td>\n",
       "      <td>0.000000</td>\n",
       "      <td>0.000000</td>\n",
       "      <td>0.000000</td>\n",
       "    </tr>\n",
       "    <tr>\n",
       "      <th>25%</th>\n",
       "      <td>48.00000</td>\n",
       "      <td>0.000000</td>\n",
       "      <td>0.000000</td>\n",
       "      <td>120.000000</td>\n",
       "      <td>211.000000</td>\n",
       "      <td>0.000000</td>\n",
       "      <td>0.000000</td>\n",
       "      <td>133.250000</td>\n",
       "      <td>0.000000</td>\n",
       "      <td>0.000000</td>\n",
       "      <td>1.000000</td>\n",
       "      <td>0.000000</td>\n",
       "      <td>2.000000</td>\n",
       "      <td>0.000000</td>\n",
       "    </tr>\n",
       "    <tr>\n",
       "      <th>50%</th>\n",
       "      <td>55.50000</td>\n",
       "      <td>1.000000</td>\n",
       "      <td>1.000000</td>\n",
       "      <td>130.000000</td>\n",
       "      <td>240.500000</td>\n",
       "      <td>0.000000</td>\n",
       "      <td>1.000000</td>\n",
       "      <td>152.500000</td>\n",
       "      <td>0.000000</td>\n",
       "      <td>0.800000</td>\n",
       "      <td>1.000000</td>\n",
       "      <td>0.000000</td>\n",
       "      <td>2.000000</td>\n",
       "      <td>1.000000</td>\n",
       "    </tr>\n",
       "    <tr>\n",
       "      <th>75%</th>\n",
       "      <td>61.00000</td>\n",
       "      <td>1.000000</td>\n",
       "      <td>2.000000</td>\n",
       "      <td>140.000000</td>\n",
       "      <td>274.750000</td>\n",
       "      <td>0.000000</td>\n",
       "      <td>1.000000</td>\n",
       "      <td>166.000000</td>\n",
       "      <td>1.000000</td>\n",
       "      <td>1.600000</td>\n",
       "      <td>2.000000</td>\n",
       "      <td>1.000000</td>\n",
       "      <td>3.000000</td>\n",
       "      <td>1.000000</td>\n",
       "    </tr>\n",
       "    <tr>\n",
       "      <th>max</th>\n",
       "      <td>77.00000</td>\n",
       "      <td>1.000000</td>\n",
       "      <td>3.000000</td>\n",
       "      <td>200.000000</td>\n",
       "      <td>564.000000</td>\n",
       "      <td>1.000000</td>\n",
       "      <td>2.000000</td>\n",
       "      <td>202.000000</td>\n",
       "      <td>1.000000</td>\n",
       "      <td>6.200000</td>\n",
       "      <td>2.000000</td>\n",
       "      <td>4.000000</td>\n",
       "      <td>3.000000</td>\n",
       "      <td>1.000000</td>\n",
       "    </tr>\n",
       "  </tbody>\n",
       "</table>\n",
       "</div>"
      ],
      "text/plain": [
       "             age         sex          cp    trestbps        chol         fbs  \\\n",
       "count  302.00000  302.000000  302.000000  302.000000  302.000000  302.000000   \n",
       "mean    54.42053    0.682119    0.963576  131.602649  246.500000    0.149007   \n",
       "std      9.04797    0.466426    1.032044   17.563394   51.753489    0.356686   \n",
       "min     29.00000    0.000000    0.000000   94.000000  126.000000    0.000000   \n",
       "25%     48.00000    0.000000    0.000000  120.000000  211.000000    0.000000   \n",
       "50%     55.50000    1.000000    1.000000  130.000000  240.500000    0.000000   \n",
       "75%     61.00000    1.000000    2.000000  140.000000  274.750000    0.000000   \n",
       "max     77.00000    1.000000    3.000000  200.000000  564.000000    1.000000   \n",
       "\n",
       "          restecg     thalach       exang     oldpeak       slope          ca  \\\n",
       "count  302.000000  302.000000  302.000000  302.000000  302.000000  302.000000   \n",
       "mean     0.526490  149.569536    0.327815    1.043046    1.397351    0.718543   \n",
       "std      0.526027   22.903527    0.470196    1.161452    0.616274    1.006748   \n",
       "min      0.000000   71.000000    0.000000    0.000000    0.000000    0.000000   \n",
       "25%      0.000000  133.250000    0.000000    0.000000    1.000000    0.000000   \n",
       "50%      1.000000  152.500000    0.000000    0.800000    1.000000    0.000000   \n",
       "75%      1.000000  166.000000    1.000000    1.600000    2.000000    1.000000   \n",
       "max      2.000000  202.000000    1.000000    6.200000    2.000000    4.000000   \n",
       "\n",
       "             thal      target  \n",
       "count  302.000000  302.000000  \n",
       "mean     2.314570    0.543046  \n",
       "std      0.613026    0.498970  \n",
       "min      0.000000    0.000000  \n",
       "25%      2.000000    0.000000  \n",
       "50%      2.000000    1.000000  \n",
       "75%      3.000000    1.000000  \n",
       "max      3.000000    1.000000  "
      ]
     },
     "execution_count": 9,
     "metadata": {},
     "output_type": "execute_result"
    }
   ],
   "source": [
    "df.describe()"
   ]
  },
  {
   "cell_type": "code",
   "execution_count": 10,
   "id": "9512e81f",
   "metadata": {},
   "outputs": [
    {
     "data": {
      "text/plain": [
       "1    164\n",
       "0    138\n",
       "Name: target, dtype: int64"
      ]
     },
     "execution_count": 10,
     "metadata": {},
     "output_type": "execute_result"
    }
   ],
   "source": [
    "df[\"target\"].value_counts()"
   ]
  },
  {
   "cell_type": "code",
   "execution_count": null,
   "id": "1a105f4c",
   "metadata": {},
   "outputs": [],
   "source": []
  },
  {
   "cell_type": "code",
   "execution_count": 11,
   "id": "db32cec4",
   "metadata": {},
   "outputs": [
    {
     "data": {
      "text/html": [
       "<div>\n",
       "<style scoped>\n",
       "    .dataframe tbody tr th:only-of-type {\n",
       "        vertical-align: middle;\n",
       "    }\n",
       "\n",
       "    .dataframe tbody tr th {\n",
       "        vertical-align: top;\n",
       "    }\n",
       "\n",
       "    .dataframe thead th {\n",
       "        text-align: right;\n",
       "    }\n",
       "</style>\n",
       "<table border=\"1\" class=\"dataframe\">\n",
       "  <thead>\n",
       "    <tr style=\"text-align: right;\">\n",
       "      <th></th>\n",
       "      <th>age</th>\n",
       "      <th>sex</th>\n",
       "      <th>cp</th>\n",
       "      <th>trestbps</th>\n",
       "      <th>chol</th>\n",
       "      <th>fbs</th>\n",
       "      <th>restecg</th>\n",
       "      <th>thalach</th>\n",
       "      <th>exang</th>\n",
       "      <th>oldpeak</th>\n",
       "      <th>slope</th>\n",
       "      <th>ca</th>\n",
       "      <th>thal</th>\n",
       "      <th>target</th>\n",
       "    </tr>\n",
       "  </thead>\n",
       "  <tbody>\n",
       "    <tr>\n",
       "      <th>225</th>\n",
       "      <td>65</td>\n",
       "      <td>0</td>\n",
       "      <td>2</td>\n",
       "      <td>155</td>\n",
       "      <td>269</td>\n",
       "      <td>0</td>\n",
       "      <td>1</td>\n",
       "      <td>148</td>\n",
       "      <td>0</td>\n",
       "      <td>0.8</td>\n",
       "      <td>2</td>\n",
       "      <td>0</td>\n",
       "      <td>2</td>\n",
       "      <td>1</td>\n",
       "    </tr>\n",
       "    <tr>\n",
       "      <th>152</th>\n",
       "      <td>56</td>\n",
       "      <td>1</td>\n",
       "      <td>1</td>\n",
       "      <td>130</td>\n",
       "      <td>221</td>\n",
       "      <td>0</td>\n",
       "      <td>0</td>\n",
       "      <td>163</td>\n",
       "      <td>0</td>\n",
       "      <td>0.0</td>\n",
       "      <td>2</td>\n",
       "      <td>0</td>\n",
       "      <td>3</td>\n",
       "      <td>1</td>\n",
       "    </tr>\n",
       "    <tr>\n",
       "      <th>228</th>\n",
       "      <td>62</td>\n",
       "      <td>0</td>\n",
       "      <td>2</td>\n",
       "      <td>130</td>\n",
       "      <td>263</td>\n",
       "      <td>0</td>\n",
       "      <td>1</td>\n",
       "      <td>97</td>\n",
       "      <td>0</td>\n",
       "      <td>1.2</td>\n",
       "      <td>1</td>\n",
       "      <td>1</td>\n",
       "      <td>3</td>\n",
       "      <td>0</td>\n",
       "    </tr>\n",
       "    <tr>\n",
       "      <th>201</th>\n",
       "      <td>58</td>\n",
       "      <td>0</td>\n",
       "      <td>2</td>\n",
       "      <td>120</td>\n",
       "      <td>340</td>\n",
       "      <td>0</td>\n",
       "      <td>1</td>\n",
       "      <td>172</td>\n",
       "      <td>0</td>\n",
       "      <td>0.0</td>\n",
       "      <td>2</td>\n",
       "      <td>0</td>\n",
       "      <td>2</td>\n",
       "      <td>1</td>\n",
       "    </tr>\n",
       "    <tr>\n",
       "      <th>52</th>\n",
       "      <td>56</td>\n",
       "      <td>1</td>\n",
       "      <td>3</td>\n",
       "      <td>120</td>\n",
       "      <td>193</td>\n",
       "      <td>0</td>\n",
       "      <td>0</td>\n",
       "      <td>162</td>\n",
       "      <td>0</td>\n",
       "      <td>1.9</td>\n",
       "      <td>1</td>\n",
       "      <td>0</td>\n",
       "      <td>3</td>\n",
       "      <td>1</td>\n",
       "    </tr>\n",
       "  </tbody>\n",
       "</table>\n",
       "</div>"
      ],
      "text/plain": [
       "     age  sex  cp  trestbps  chol  fbs  restecg  thalach  exang  oldpeak  \\\n",
       "225   65    0   2       155   269    0        1      148      0      0.8   \n",
       "152   56    1   1       130   221    0        0      163      0      0.0   \n",
       "228   62    0   2       130   263    0        1       97      0      1.2   \n",
       "201   58    0   2       120   340    0        1      172      0      0.0   \n",
       "52    56    1   3       120   193    0        0      162      0      1.9   \n",
       "\n",
       "     slope  ca  thal  target  \n",
       "225      2   0     2       1  \n",
       "152      2   0     3       1  \n",
       "228      1   1     3       0  \n",
       "201      2   0     2       1  \n",
       "52       1   0     3       1  "
      ]
     },
     "execution_count": 11,
     "metadata": {},
     "output_type": "execute_result"
    }
   ],
   "source": [
    "df.sample(5,random_state=0)"
   ]
  },
  {
   "cell_type": "markdown",
   "id": "2ae74b6f",
   "metadata": {},
   "source": [
    "### #4. Training and Testing Dataset"
   ]
  },
  {
   "cell_type": "code",
   "execution_count": 12,
   "id": "0a27acbd",
   "metadata": {},
   "outputs": [
    {
     "name": "stdout",
     "output_type": "stream",
     "text": [
      "(302, 13) (302,)\n"
     ]
    }
   ],
   "source": [
    "x=df.drop(columns='target')\n",
    "y=df.target\n",
    "print(x.shape,y.shape)"
   ]
  },
  {
   "cell_type": "code",
   "execution_count": 13,
   "id": "94994c57",
   "metadata": {},
   "outputs": [],
   "source": [
    "x_train,x_test,y_train,y_test=train_test_split(x,y,test_size=0.2,random_state=2,stratify=y)"
   ]
  },
  {
   "cell_type": "markdown",
   "id": "0524bf8e",
   "metadata": {},
   "source": [
    "### #5. Feature Scaling"
   ]
  },
  {
   "cell_type": "code",
   "execution_count": 14,
   "id": "26b8bce8",
   "metadata": {},
   "outputs": [
    {
     "data": {
      "text/plain": [
       "array([[ 0.31376524,  0.67216607, -0.94847216, ..., -0.62675024,\n",
       "        -0.69655732, -2.18635633],\n",
       "       [-0.02082513,  0.67216607, -0.94847216, ..., -0.62675024,\n",
       "         0.31470963,  1.09658371],\n",
       "       [-1.24765647,  0.67216607, -0.94847216, ..., -0.62675024,\n",
       "        -0.69655732, -0.54488631],\n",
       "       ...,\n",
       "       [-0.24388537,  0.67216607, -0.94847216, ...,  0.98013069,\n",
       "         0.31470963,  1.09658371],\n",
       "       [ 1.42906646,  0.67216607,  0.98866165, ..., -0.62675024,\n",
       "        -0.69655732,  1.09658371],\n",
       "       [-1.47071671, -1.48772757,  0.02009475, ...,  0.98013069,\n",
       "         0.31470963, -0.54488631]])"
      ]
     },
     "execution_count": 14,
     "metadata": {},
     "output_type": "execute_result"
    }
   ],
   "source": [
    "st=StandardScaler()\n",
    "# x_train and x_test feature scaling\n",
    "x_train=st.fit_transform(x_train)\n",
    "x_test=st.transform(x_test)\n",
    "\n",
    "x_train\n"
   ]
  },
  {
   "cell_type": "markdown",
   "id": "1393d78d",
   "metadata": {},
   "source": [
    " ### #6 Algorthims training(model prepartion)"
   ]
  },
  {
   "cell_type": "markdown",
   "id": "c95a8236",
   "metadata": {},
   "source": [
    "#### KNNClassifier"
   ]
  },
  {
   "cell_type": "code",
   "execution_count": 15,
   "id": "cd839816",
   "metadata": {},
   "outputs": [],
   "source": [
    "knn=KNeighborsClassifier()"
   ]
  },
  {
   "cell_type": "code",
   "execution_count": 16,
   "id": "c8e302e4",
   "metadata": {},
   "outputs": [
    {
     "data": {
      "text/html": [
       "<style>#sk-container-id-1 {color: black;background-color: white;}#sk-container-id-1 pre{padding: 0;}#sk-container-id-1 div.sk-toggleable {background-color: white;}#sk-container-id-1 label.sk-toggleable__label {cursor: pointer;display: block;width: 100%;margin-bottom: 0;padding: 0.3em;box-sizing: border-box;text-align: center;}#sk-container-id-1 label.sk-toggleable__label-arrow:before {content: \"▸\";float: left;margin-right: 0.25em;color: #696969;}#sk-container-id-1 label.sk-toggleable__label-arrow:hover:before {color: black;}#sk-container-id-1 div.sk-estimator:hover label.sk-toggleable__label-arrow:before {color: black;}#sk-container-id-1 div.sk-toggleable__content {max-height: 0;max-width: 0;overflow: hidden;text-align: left;background-color: #f0f8ff;}#sk-container-id-1 div.sk-toggleable__content pre {margin: 0.2em;color: black;border-radius: 0.25em;background-color: #f0f8ff;}#sk-container-id-1 input.sk-toggleable__control:checked~div.sk-toggleable__content {max-height: 200px;max-width: 100%;overflow: auto;}#sk-container-id-1 input.sk-toggleable__control:checked~label.sk-toggleable__label-arrow:before {content: \"▾\";}#sk-container-id-1 div.sk-estimator input.sk-toggleable__control:checked~label.sk-toggleable__label {background-color: #d4ebff;}#sk-container-id-1 div.sk-label input.sk-toggleable__control:checked~label.sk-toggleable__label {background-color: #d4ebff;}#sk-container-id-1 input.sk-hidden--visually {border: 0;clip: rect(1px 1px 1px 1px);clip: rect(1px, 1px, 1px, 1px);height: 1px;margin: -1px;overflow: hidden;padding: 0;position: absolute;width: 1px;}#sk-container-id-1 div.sk-estimator {font-family: monospace;background-color: #f0f8ff;border: 1px dotted black;border-radius: 0.25em;box-sizing: border-box;margin-bottom: 0.5em;}#sk-container-id-1 div.sk-estimator:hover {background-color: #d4ebff;}#sk-container-id-1 div.sk-parallel-item::after {content: \"\";width: 100%;border-bottom: 1px solid gray;flex-grow: 1;}#sk-container-id-1 div.sk-label:hover label.sk-toggleable__label {background-color: #d4ebff;}#sk-container-id-1 div.sk-serial::before {content: \"\";position: absolute;border-left: 1px solid gray;box-sizing: border-box;top: 0;bottom: 0;left: 50%;z-index: 0;}#sk-container-id-1 div.sk-serial {display: flex;flex-direction: column;align-items: center;background-color: white;padding-right: 0.2em;padding-left: 0.2em;position: relative;}#sk-container-id-1 div.sk-item {position: relative;z-index: 1;}#sk-container-id-1 div.sk-parallel {display: flex;align-items: stretch;justify-content: center;background-color: white;position: relative;}#sk-container-id-1 div.sk-item::before, #sk-container-id-1 div.sk-parallel-item::before {content: \"\";position: absolute;border-left: 1px solid gray;box-sizing: border-box;top: 0;bottom: 0;left: 50%;z-index: -1;}#sk-container-id-1 div.sk-parallel-item {display: flex;flex-direction: column;z-index: 1;position: relative;background-color: white;}#sk-container-id-1 div.sk-parallel-item:first-child::after {align-self: flex-end;width: 50%;}#sk-container-id-1 div.sk-parallel-item:last-child::after {align-self: flex-start;width: 50%;}#sk-container-id-1 div.sk-parallel-item:only-child::after {width: 0;}#sk-container-id-1 div.sk-dashed-wrapped {border: 1px dashed gray;margin: 0 0.4em 0.5em 0.4em;box-sizing: border-box;padding-bottom: 0.4em;background-color: white;}#sk-container-id-1 div.sk-label label {font-family: monospace;font-weight: bold;display: inline-block;line-height: 1.2em;}#sk-container-id-1 div.sk-label-container {text-align: center;}#sk-container-id-1 div.sk-container {/* jupyter's `normalize.less` sets `[hidden] { display: none; }` but bootstrap.min.css set `[hidden] { display: none !important; }` so we also need the `!important` here to be able to override the default hidden behavior on the sphinx rendered scikit-learn.org. See: https://github.com/scikit-learn/scikit-learn/issues/21755 */display: inline-block !important;position: relative;}#sk-container-id-1 div.sk-text-repr-fallback {display: none;}</style><div id=\"sk-container-id-1\" class=\"sk-top-container\"><div class=\"sk-text-repr-fallback\"><pre>KNeighborsClassifier()</pre><b>In a Jupyter environment, please rerun this cell to show the HTML representation or trust the notebook. <br />On GitHub, the HTML representation is unable to render, please try loading this page with nbviewer.org.</b></div><div class=\"sk-container\" hidden><div class=\"sk-item\"><div class=\"sk-estimator sk-toggleable\"><input class=\"sk-toggleable__control sk-hidden--visually\" id=\"sk-estimator-id-1\" type=\"checkbox\" checked><label for=\"sk-estimator-id-1\" class=\"sk-toggleable__label sk-toggleable__label-arrow\">KNeighborsClassifier</label><div class=\"sk-toggleable__content\"><pre>KNeighborsClassifier()</pre></div></div></div></div></div>"
      ],
      "text/plain": [
       "KNeighborsClassifier()"
      ]
     },
     "execution_count": 16,
     "metadata": {},
     "output_type": "execute_result"
    }
   ],
   "source": [
    "knn.fit(x_train,y_train)"
   ]
  },
  {
   "cell_type": "markdown",
   "id": "5842e4bb",
   "metadata": {},
   "source": [
    "#### accuracy on Testing data of KNN classifier "
   ]
  },
  {
   "cell_type": "code",
   "execution_count": 17,
   "id": "5470be08",
   "metadata": {},
   "outputs": [],
   "source": [
    "y_pred=knn.predict(x_test)"
   ]
  },
  {
   "cell_type": "code",
   "execution_count": 18,
   "id": "8e1d9393",
   "metadata": {},
   "outputs": [
    {
     "data": {
      "text/plain": [
       "0.8688524590163934"
      ]
     },
     "execution_count": 18,
     "metadata": {},
     "output_type": "execute_result"
    }
   ],
   "source": [
    "accuracy_score(y_test,y_pred)"
   ]
  },
  {
   "cell_type": "markdown",
   "id": "5f5fe1da",
   "metadata": {},
   "source": [
    "#### accuracy on training data of KNN classifier "
   ]
  },
  {
   "cell_type": "code",
   "execution_count": 19,
   "id": "ffd3d8d7",
   "metadata": {},
   "outputs": [],
   "source": [
    "x_train_pred=knn.predict(x_train)"
   ]
  },
  {
   "cell_type": "code",
   "execution_count": 20,
   "id": "e38b53c4",
   "metadata": {},
   "outputs": [
    {
     "data": {
      "text/plain": [
       "0.8506224066390041"
      ]
     },
     "execution_count": 20,
     "metadata": {},
     "output_type": "execute_result"
    }
   ],
   "source": [
    "accuracy_score(y_train,x_train_pred)"
   ]
  },
  {
   "cell_type": "markdown",
   "id": "bedd0a63",
   "metadata": {},
   "source": [
    "In above accuracy of KNN of both trainig data and testing data almost similar each other.if their is wide difference then the model is overfitting i.e. the acc_score of train data is very  large and the accura_score of test data is very small"
   ]
  },
  {
   "cell_type": "code",
   "execution_count": null,
   "id": "4f2a284d",
   "metadata": {},
   "outputs": [],
   "source": []
  },
  {
   "cell_type": "markdown",
   "id": "eb4f8e35",
   "metadata": {},
   "source": [
    "### Hyperparameter Optimization"
   ]
  },
  {
   "cell_type": "code",
   "execution_count": 21,
   "id": "1184d620",
   "metadata": {},
   "outputs": [],
   "source": [
    "# help(knn)"
   ]
  },
  {
   "cell_type": "markdown",
   "id": "fe07e0ad",
   "metadata": {},
   "source": [
    "Finding optimal K value for KNN"
   ]
  },
  {
   "cell_type": "code",
   "execution_count": 22,
   "id": "46001172",
   "metadata": {},
   "outputs": [
    {
     "name": "stdout",
     "output_type": "stream",
     "text": [
      "max: 0.9180327868852459 at index: 8\n"
     ]
    }
   ],
   "source": [
    "\n",
    "import array as arr\n",
    "score=[]\n",
    "k_range=range(1,39)\n",
    "for k in k_range:\n",
    "    knn_check=KNeighborsClassifier(n_neighbors=k)\n",
    "    knn_check.fit(x_train,y_train)\n",
    "    y_predict=knn_check.predict(x_test)\n",
    "    score.append(accuracy_score(y_test,y_predict))\n",
    "# print(score)\n",
    "\n",
    "max_val=None\n",
    "max_idx=None\n",
    "for idx,num in enumerate(score):\n",
    "    if(max_idx is None or num>max_val):\n",
    "        max_val=num\n",
    "        max_idx=idx+1\n",
    "print(\"max:\",max_val,\"at index:\",max_idx)"
   ]
  },
  {
   "cell_type": "code",
   "execution_count": 23,
   "id": "0dfb8361",
   "metadata": {},
   "outputs": [
    {
     "data": {
      "text/plain": [
       "Text(0, 0.5, 'Testing Accuracy')"
      ]
     },
     "execution_count": 23,
     "metadata": {},
     "output_type": "execute_result"
    },
    {
     "data": {
      "image/png": "[encoded data removed]",
      "text/plain": [
       "<Figure size 432x288 with 1 Axes>"
      ]
     },
     "metadata": {
      "needs_background": "light"
     },
     "output_type": "display_data"
    }
   ],
   "source": [
    "plt.plot(k_range,score)\n",
    "plt.xlabel(\"value of k for knn\")\n",
    "plt.ylabel(\"Testing Accuracy\")"
   ]
  },
  {
   "cell_type": "code",
   "execution_count": 24,
   "id": "c4e2fa3f",
   "metadata": {},
   "outputs": [
    {
     "data": {
      "text/plain": [
       "0.9180327868852459"
      ]
     },
     "execution_count": 24,
     "metadata": {},
     "output_type": "execute_result"
    }
   ],
   "source": [
    "# best K value\n",
    "knn_mod=KNeighborsClassifier(n_neighbors=8)\n",
    "knn_mod.fit(x_train,y_train)\n",
    "y_pred3=knn_mod.predict(x_test)\n",
    "accuracy_score(y_test,y_pred3)"
   ]
  },
  {
   "cell_type": "code",
   "execution_count": null,
   "id": "6d6aeb9c",
   "metadata": {},
   "outputs": [],
   "source": []
  },
  {
   "cell_type": "code",
   "execution_count": 25,
   "id": "d1ea4ab4",
   "metadata": {},
   "outputs": [],
   "source": [
    "# accuracy on traing data\n",
    "x_train_pred1=knn_mod.predict(x_train)"
   ]
  },
  {
   "cell_type": "code",
   "execution_count": 26,
   "id": "b48ebd6b",
   "metadata": {},
   "outputs": [
    {
     "data": {
      "text/plain": [
       "0.8713692946058091"
      ]
     },
     "execution_count": 26,
     "metadata": {},
     "output_type": "execute_result"
    }
   ],
   "source": [
    "accuracy_score(y_train,x_train_pred1)"
   ]
  },
  {
   "cell_type": "code",
   "execution_count": null,
   "id": "e40876ff",
   "metadata": {},
   "outputs": [],
   "source": []
  },
  {
   "cell_type": "markdown",
   "id": "37e9f9fa",
   "metadata": {},
   "source": [
    " Tune many hyperparameters together using sklearn GridSearchCv"
   ]
  },
  {
   "cell_type": "code",
   "execution_count": 50,
   "id": "f9908132",
   "metadata": {},
   "outputs": [
    {
     "data": {
      "text/html": [
       "<style>#sk-container-id-3 {color: black;background-color: white;}#sk-container-id-3 pre{padding: 0;}#sk-container-id-3 div.sk-toggleable {background-color: white;}#sk-container-id-3 label.sk-toggleable__label {cursor: pointer;display: block;width: 100%;margin-bottom: 0;padding: 0.3em;box-sizing: border-box;text-align: center;}#sk-container-id-3 label.sk-toggleable__label-arrow:before {content: \"▸\";float: left;margin-right: 0.25em;color: #696969;}#sk-container-id-3 label.sk-toggleable__label-arrow:hover:before {color: black;}#sk-container-id-3 div.sk-estimator:hover label.sk-toggleable__label-arrow:before {color: black;}#sk-container-id-3 div.sk-toggleable__content {max-height: 0;max-width: 0;overflow: hidden;text-align: left;background-color: #f0f8ff;}#sk-container-id-3 div.sk-toggleable__content pre {margin: 0.2em;color: black;border-radius: 0.25em;background-color: #f0f8ff;}#sk-container-id-3 input.sk-toggleable__control:checked~div.sk-toggleable__content {max-height: 200px;max-width: 100%;overflow: auto;}#sk-container-id-3 input.sk-toggleable__control:checked~label.sk-toggleable__label-arrow:before {content: \"▾\";}#sk-container-id-3 div.sk-estimator input.sk-toggleable__control:checked~label.sk-toggleable__label {background-color: #d4ebff;}#sk-container-id-3 div.sk-label input.sk-toggleable__control:checked~label.sk-toggleable__label {background-color: #d4ebff;}#sk-container-id-3 input.sk-hidden--visually {border: 0;clip: rect(1px 1px 1px 1px);clip: rect(1px, 1px, 1px, 1px);height: 1px;margin: -1px;overflow: hidden;padding: 0;position: absolute;width: 1px;}#sk-container-id-3 div.sk-estimator {font-family: monospace;background-color: #f0f8ff;border: 1px dotted black;border-radius: 0.25em;box-sizing: border-box;margin-bottom: 0.5em;}#sk-container-id-3 div.sk-estimator:hover {background-color: #d4ebff;}#sk-container-id-3 div.sk-parallel-item::after {content: \"\";width: 100%;border-bottom: 1px solid gray;flex-grow: 1;}#sk-container-id-3 div.sk-label:hover label.sk-toggleable__label {background-color: #d4ebff;}#sk-container-id-3 div.sk-serial::before {content: \"\";position: absolute;border-left: 1px solid gray;box-sizing: border-box;top: 0;bottom: 0;left: 50%;z-index: 0;}#sk-container-id-3 div.sk-serial {display: flex;flex-direction: column;align-items: center;background-color: white;padding-right: 0.2em;padding-left: 0.2em;position: relative;}#sk-container-id-3 div.sk-item {position: relative;z-index: 1;}#sk-container-id-3 div.sk-parallel {display: flex;align-items: stretch;justify-content: center;background-color: white;position: relative;}#sk-container-id-3 div.sk-item::before, #sk-container-id-3 div.sk-parallel-item::before {content: \"\";position: absolute;border-left: 1px solid gray;box-sizing: border-box;top: 0;bottom: 0;left: 50%;z-index: -1;}#sk-container-id-3 div.sk-parallel-item {display: flex;flex-direction: column;z-index: 1;position: relative;background-color: white;}#sk-container-id-3 div.sk-parallel-item:first-child::after {align-self: flex-end;width: 50%;}#sk-container-id-3 div.sk-parallel-item:last-child::after {align-self: flex-start;width: 50%;}#sk-container-id-3 div.sk-parallel-item:only-child::after {width: 0;}#sk-container-id-3 div.sk-dashed-wrapped {border: 1px dashed gray;margin: 0 0.4em 0.5em 0.4em;box-sizing: border-box;padding-bottom: 0.4em;background-color: white;}#sk-container-id-3 div.sk-label label {font-family: monospace;font-weight: bold;display: inline-block;line-height: 1.2em;}#sk-container-id-3 div.sk-label-container {text-align: center;}#sk-container-id-3 div.sk-container {/* jupyter's `normalize.less` sets `[hidden] { display: none; }` but bootstrap.min.css set `[hidden] { display: none !important; }` so we also need the `!important` here to be able to override the default hidden behavior on the sphinx rendered scikit-learn.org. See: https://github.com/scikit-learn/scikit-learn/issues/21755 */display: inline-block !important;position: relative;}#sk-container-id-3 div.sk-text-repr-fallback {display: none;}</style><div id=\"sk-container-id-3\" class=\"sk-top-container\"><div class=\"sk-text-repr-fallback\"><pre>GridSearchCV(estimator=KNeighborsClassifier(),\n",
       "             param_grid={&#x27;metric&#x27;: [&#x27;euclidean&#x27;, &#x27;manhattan&#x27;],\n",
       "                         &#x27;n_neighbors&#x27;: array([ 1,  2,  3,  4,  5,  6,  7,  8,  9, 10, 11, 12, 13, 14, 15, 16, 17,\n",
       "       18, 19, 20, 21, 22, 23, 24, 25, 26, 27, 28, 29, 30, 31, 32, 33, 34,\n",
       "       35, 36, 37, 38, 39]),\n",
       "                         &#x27;weights&#x27;: [&#x27;uniform&#x27;, &#x27;distance&#x27;]})</pre><b>In a Jupyter environment, please rerun this cell to show the HTML representation or trust the notebook. <br />On GitHub, the HTML representation is unable to render, please try loading this page with nbviewer.org.</b></div><div class=\"sk-container\" hidden><div class=\"sk-item sk-dashed-wrapped\"><div class=\"sk-label-container\"><div class=\"sk-label sk-toggleable\"><input class=\"sk-toggleable__control sk-hidden--visually\" id=\"sk-estimator-id-5\" type=\"checkbox\" ><label for=\"sk-estimator-id-5\" class=\"sk-toggleable__label sk-toggleable__label-arrow\">GridSearchCV</label><div class=\"sk-toggleable__content\"><pre>GridSearchCV(estimator=KNeighborsClassifier(),\n",
       "             param_grid={&#x27;metric&#x27;: [&#x27;euclidean&#x27;, &#x27;manhattan&#x27;],\n",
       "                         &#x27;n_neighbors&#x27;: array([ 1,  2,  3,  4,  5,  6,  7,  8,  9, 10, 11, 12, 13, 14, 15, 16, 17,\n",
       "       18, 19, 20, 21, 22, 23, 24, 25, 26, 27, 28, 29, 30, 31, 32, 33, 34,\n",
       "       35, 36, 37, 38, 39]),\n",
       "                         &#x27;weights&#x27;: [&#x27;uniform&#x27;, &#x27;distance&#x27;]})</pre></div></div></div><div class=\"sk-parallel\"><div class=\"sk-parallel-item\"><div class=\"sk-item\"><div class=\"sk-label-container\"><div class=\"sk-label sk-toggleable\"><input class=\"sk-toggleable__control sk-hidden--visually\" id=\"sk-estimator-id-6\" type=\"checkbox\" ><label for=\"sk-estimator-id-6\" class=\"sk-toggleable__label sk-toggleable__label-arrow\">estimator: KNeighborsClassifier</label><div class=\"sk-toggleable__content\"><pre>KNeighborsClassifier()</pre></div></div></div><div class=\"sk-serial\"><div class=\"sk-item\"><div class=\"sk-estimator sk-toggleable\"><input class=\"sk-toggleable__control sk-hidden--visually\" id=\"sk-estimator-id-7\" type=\"checkbox\" ><label for=\"sk-estimator-id-7\" class=\"sk-toggleable__label sk-toggleable__label-arrow\">KNeighborsClassifier</label><div class=\"sk-toggleable__content\"><pre>KNeighborsClassifier()</pre></div></div></div></div></div></div></div></div></div></div>"
      ],
      "text/plain": [
       "GridSearchCV(estimator=KNeighborsClassifier(),\n",
       "             param_grid={'metric': ['euclidean', 'manhattan'],\n",
       "                         'n_neighbors': array([ 1,  2,  3,  4,  5,  6,  7,  8,  9, 10, 11, 12, 13, 14, 15, 16, 17,\n",
       "       18, 19, 20, 21, 22, 23, 24, 25, 26, 27, 28, 29, 30, 31, 32, 33, 34,\n",
       "       35, 36, 37, 38, 39]),\n",
       "                         'weights': ['uniform', 'distance']})"
      ]
     },
     "execution_count": 50,
     "metadata": {},
     "output_type": "execute_result"
    }
   ],
   "source": [
    "\n",
    "knn_grid=KNeighborsClassifier()\n",
    "\n",
    "k=np.arange(1,40) # default=5\n",
    "metrics=   ['euclidean','manhattan']\n",
    "weights=   ['uniform', 'distance']\n",
    "\n",
    "\n",
    "param_grid=dict(n_neighbors=k,metric=metrics,weights=weights)\n",
    "grid_search=GridSearchCV(knn_grid,param_grid)\n",
    "grid_search.fit(x_train,y_train)"
   ]
  },
  {
   "cell_type": "code",
   "execution_count": 28,
   "id": "70074a7c",
   "metadata": {},
   "outputs": [],
   "source": [
    "# grid_search.cv_results_\n",
    "# pd.DataFrame(grid_search.cv_results_)[[\"mean_test_score\",\"std_test_score\",\"params\"]]"
   ]
  },
  {
   "cell_type": "code",
   "execution_count": 29,
   "id": "1f18e7c9",
   "metadata": {},
   "outputs": [
    {
     "name": "stdout",
     "output_type": "stream",
     "text": [
      "best score: 0.8463435374149662\n",
      "best param: {'metric': 'manhattan', 'n_neighbors': 34, 'weights': 'uniform'}\n",
      "best estimator: KNeighborsClassifier(metric='manhattan', n_neighbors=34)\n"
     ]
    }
   ],
   "source": [
    "print(\"best score:\",grid_search.best_score_)\n",
    "print(\"best param:\",grid_search.best_params_)\n",
    "print(\"best estimator:\",grid_search.best_estimator_)"
   ]
  },
  {
   "cell_type": "code",
   "execution_count": null,
   "id": "914dd9cb",
   "metadata": {},
   "outputs": [],
   "source": []
  },
  {
   "cell_type": "markdown",
   "id": "9bcdfaa4",
   "metadata": {},
   "source": [
    "### # model  saving  "
   ]
  },
  {
   "cell_type": "code",
   "execution_count": 30,
   "id": "0c484abf",
   "metadata": {},
   "outputs": [],
   "source": [
    "import joblib as jb\n",
    "import pickle as pk"
   ]
  },
  {
   "cell_type": "code",
   "execution_count": 31,
   "id": "4c7de647",
   "metadata": {},
   "outputs": [],
   "source": [
    "# using pickle lib\n",
    "pk.dump(knn_mod,open(\"model/knn_heart_model.pkl\",'wb'))"
   ]
  },
  {
   "cell_type": "code",
   "execution_count": 32,
   "id": "fb1057db",
   "metadata": {},
   "outputs": [
    {
     "data": {
      "text/plain": [
       "array([0, 1, 1, 0, 1, 1, 1, 0, 1, 1, 1, 0, 0, 0, 1, 1, 1, 0, 0, 1, 0, 1,\n",
       "       1, 0, 0, 0, 0, 0, 1, 1, 0, 1, 1, 0, 0, 0, 1, 0, 1, 1, 0, 0, 1, 1,\n",
       "       0, 1, 1, 1, 1, 0, 0, 1, 0, 1, 1, 1, 1, 0, 1, 0, 1], dtype=int64)"
      ]
     },
     "execution_count": 32,
     "metadata": {},
     "output_type": "execute_result"
    }
   ],
   "source": [
    "pkl_knn_model=pk.load(open('model/knn_heart_model.pkl','rb'))\n",
    "pkl_knn_model.predict(x_test)"
   ]
  },
  {
   "cell_type": "code",
   "execution_count": 33,
   "id": "f09b111a",
   "metadata": {},
   "outputs": [
    {
     "data": {
      "text/plain": [
       "['heart_model.jb']"
      ]
     },
     "execution_count": 33,
     "metadata": {},
     "output_type": "execute_result"
    }
   ],
   "source": [
    "# using joblib\n",
    "jb.dump(knn_mod,'heart_model.jb')"
   ]
  },
  {
   "cell_type": "code",
   "execution_count": 34,
   "id": "a013aa68",
   "metadata": {},
   "outputs": [
    {
     "data": {
      "text/html": [
       "<div>\n",
       "<style scoped>\n",
       "    .dataframe tbody tr th:only-of-type {\n",
       "        vertical-align: middle;\n",
       "    }\n",
       "\n",
       "    .dataframe tbody tr th {\n",
       "        vertical-align: top;\n",
       "    }\n",
       "\n",
       "    .dataframe thead th {\n",
       "        text-align: right;\n",
       "    }\n",
       "</style>\n",
       "<table border=\"1\" class=\"dataframe\">\n",
       "  <thead>\n",
       "    <tr style=\"text-align: right;\">\n",
       "      <th></th>\n",
       "      <th>age</th>\n",
       "      <th>sex</th>\n",
       "      <th>cp</th>\n",
       "      <th>trestbps</th>\n",
       "      <th>chol</th>\n",
       "      <th>fbs</th>\n",
       "      <th>restecg</th>\n",
       "      <th>thalach</th>\n",
       "      <th>exang</th>\n",
       "      <th>oldpeak</th>\n",
       "      <th>slope</th>\n",
       "      <th>ca</th>\n",
       "      <th>thal</th>\n",
       "      <th>target</th>\n",
       "    </tr>\n",
       "  </thead>\n",
       "  <tbody>\n",
       "    <tr>\n",
       "      <th>173</th>\n",
       "      <td>41</td>\n",
       "      <td>0</td>\n",
       "      <td>1</td>\n",
       "      <td>126</td>\n",
       "      <td>306</td>\n",
       "      <td>0</td>\n",
       "      <td>1</td>\n",
       "      <td>163</td>\n",
       "      <td>0</td>\n",
       "      <td>0.0</td>\n",
       "      <td>2</td>\n",
       "      <td>0</td>\n",
       "      <td>2</td>\n",
       "      <td>1</td>\n",
       "    </tr>\n",
       "    <tr>\n",
       "      <th>88</th>\n",
       "      <td>57</td>\n",
       "      <td>1</td>\n",
       "      <td>2</td>\n",
       "      <td>150</td>\n",
       "      <td>126</td>\n",
       "      <td>1</td>\n",
       "      <td>1</td>\n",
       "      <td>173</td>\n",
       "      <td>0</td>\n",
       "      <td>0.2</td>\n",
       "      <td>2</td>\n",
       "      <td>1</td>\n",
       "      <td>3</td>\n",
       "      <td>1</td>\n",
       "    </tr>\n",
       "    <tr>\n",
       "      <th>163</th>\n",
       "      <td>49</td>\n",
       "      <td>1</td>\n",
       "      <td>1</td>\n",
       "      <td>130</td>\n",
       "      <td>266</td>\n",
       "      <td>0</td>\n",
       "      <td>1</td>\n",
       "      <td>171</td>\n",
       "      <td>0</td>\n",
       "      <td>0.6</td>\n",
       "      <td>2</td>\n",
       "      <td>0</td>\n",
       "      <td>2</td>\n",
       "      <td>1</td>\n",
       "    </tr>\n",
       "    <tr>\n",
       "      <th>242</th>\n",
       "      <td>64</td>\n",
       "      <td>0</td>\n",
       "      <td>0</td>\n",
       "      <td>130</td>\n",
       "      <td>303</td>\n",
       "      <td>0</td>\n",
       "      <td>1</td>\n",
       "      <td>122</td>\n",
       "      <td>0</td>\n",
       "      <td>2.0</td>\n",
       "      <td>1</td>\n",
       "      <td>2</td>\n",
       "      <td>2</td>\n",
       "      <td>1</td>\n",
       "    </tr>\n",
       "    <tr>\n",
       "      <th>110</th>\n",
       "      <td>51</td>\n",
       "      <td>0</td>\n",
       "      <td>2</td>\n",
       "      <td>130</td>\n",
       "      <td>256</td>\n",
       "      <td>0</td>\n",
       "      <td>0</td>\n",
       "      <td>149</td>\n",
       "      <td>0</td>\n",
       "      <td>0.5</td>\n",
       "      <td>2</td>\n",
       "      <td>0</td>\n",
       "      <td>2</td>\n",
       "      <td>1</td>\n",
       "    </tr>\n",
       "  </tbody>\n",
       "</table>\n",
       "</div>"
      ],
      "text/plain": [
       "     age  sex  cp  trestbps  chol  fbs  restecg  thalach  exang  oldpeak  \\\n",
       "173   41    0   1       126   306    0        1      163      0      0.0   \n",
       "88    57    1   2       150   126    1        1      173      0      0.2   \n",
       "163   49    1   1       130   266    0        1      171      0      0.6   \n",
       "242   64    0   0       130   303    0        1      122      0      2.0   \n",
       "110   51    0   2       130   256    0        0      149      0      0.5   \n",
       "\n",
       "     slope  ca  thal  target  \n",
       "173      2   0     2       1  \n",
       "88       2   1     3       1  \n",
       "163      2   0     2       1  \n",
       "242      1   2     2       1  \n",
       "110      2   0     2       1  "
      ]
     },
     "execution_count": 34,
     "metadata": {},
     "output_type": "execute_result"
    }
   ],
   "source": [
    "df.sample(5,random_state=1)"
   ]
  },
  {
   "cell_type": "markdown",
   "id": "236b42c2",
   "metadata": {},
   "source": [
    "### single data prediction \n"
   ]
  },
  {
   "cell_type": "code",
   "execution_count": 35,
   "id": "c17bbfef",
   "metadata": {},
   "outputs": [
    {
     "name": "stdout",
     "output_type": "stream",
     "text": [
      "person not heart disease\n"
     ]
    },
    {
     "name": "stderr",
     "output_type": "stream",
     "text": [
      "C:\\Users\\Amexo\\AppData\\Local\\Programs\\Python\\Python310\\lib\\site-packages\\sklearn\\base.py:450: UserWarning: X does not have valid feature names, but StandardScaler was fitted with feature names\n",
      "  warnings.warn(\n"
     ]
    }
   ],
   "source": [
    "import numpy as np\n",
    "# ['age', 'sex', 'cp', 'trestbps', 'chol', 'fbs', 'restecg', 'thalach','exang', 'oldpeak', 'slope', 'ca', 'thal']\n",
    "\n",
    "input_data=[[59,1,3,160,273,0,0,125,0,0.0,2,0,2]]\n",
    "# input_data=[[68,0,2,120,211,0,0,115,0,1.5,1,0,2]]\n",
    "# input_data=[[44,0,2,108,141,0,1,175,0,0.6,1,0,2]]\\\n",
    "result = pkl_knn_model.predict(st.transform(input_data))\n",
    "if result== [0]:\n",
    "    print(\"person not heart disease\")\n",
    "else:\n",
    "    print(\"person have heart disease \")\n",
    "\n"
   ]
  },
  {
   "cell_type": "markdown",
   "id": "565ac8af",
   "metadata": {},
   "source": [
    "###  #7 Data visualization"
   ]
  },
  {
   "cell_type": "code",
   "execution_count": 36,
   "id": "2b61c274",
   "metadata": {
    "scrolled": true
   },
   "outputs": [],
   "source": [
    "# df.age.unique().shape"
   ]
  },
  {
   "cell_type": "code",
   "execution_count": 37,
   "id": "2a5d5da2",
   "metadata": {},
   "outputs": [
    {
     "data": {
      "image/png": "[encoded data removed]",
      "text/plain": [
       "<Figure size 432x288 with 1 Axes>"
      ]
     },
     "metadata": {
      "needs_background": "light"
     },
     "output_type": "display_data"
    }
   ],
   "source": [
    "# counting dataset visualizatiuon\n",
    "sns.countplot(x=\"target\",data=df)\n",
    "plt.xticks([0,1],[\"Not suffering \",\"Suffering \"])\n",
    "plt.show()"
   ]
  },
  {
   "cell_type": "markdown",
   "id": "d67e8087",
   "metadata": {},
   "source": [
    "#Gender Distribution according to target"
   ]
  },
  {
   "cell_type": "code",
   "execution_count": 38,
   "id": "d2fb542e",
   "metadata": {},
   "outputs": [
    {
     "data": {
      "image/png": "[encoded data removed]",
      "text/plain": [
       "<Figure size 432x288 with 1 Axes>"
      ]
     },
     "metadata": {
      "needs_background": "light"
     },
     "output_type": "display_data"
    }
   ],
   "source": [
    "sns.countplot(x=\"sex\",hue=\"target\", data=df)\n",
    "plt.xticks([0,1],[\"Female \",\"Male \"])\n",
    "plt.legend(labels=[\"No-Disease\",\"Disease\"])\n",
    "plt.title(\"Gender Distribution according to target\")\n",
    "plt.show()"
   ]
  },
  {
   "cell_type": "markdown",
   "id": "7dc2c05f",
   "metadata": {},
   "source": [
    "#Age Distribution according to target"
   ]
  },
  {
   "cell_type": "code",
   "execution_count": 39,
   "id": "7421e40f",
   "metadata": {},
   "outputs": [
    {
     "data": {
      "image/png": "[encoded data removed]",
      "text/plain": [
       "<Figure size 1080x576 with 1 Axes>"
      ]
     },
     "metadata": {
      "needs_background": "light"
     },
     "output_type": "display_data"
    }
   ],
   "source": [
    "plt.figure(figsize=(15,8))\n",
    "sns.countplot(x=\"age\",hue=\"target\", data=df)\n",
    "plt.legend(labels=[\"No-Disease\",\"Disease\"])\n",
    "plt.title(\"Age Distribution according to target\")\n",
    "plt.show()"
   ]
  },
  {
   "cell_type": "markdown",
   "id": "c95fef6f",
   "metadata": {},
   "source": [
    "#Visualization of Chest pain type\n",
    "\n",
    "0 = typical angina\n",
    "\n",
    "1 = atypical angina\n",
    "\n",
    "2 = non — anginal pain\n",
    "\n",
    "3 = asymptotic\n"
   ]
  },
  {
   "cell_type": "code",
   "execution_count": 40,
   "id": "0823a9df",
   "metadata": {},
   "outputs": [
    {
     "data": {
      "text/plain": [
       "array([0, 1, 2, 3], dtype=int64)"
      ]
     },
     "execution_count": 40,
     "metadata": {},
     "output_type": "execute_result"
    }
   ],
   "source": [
    "df[\"cp\"].unique()"
   ]
  },
  {
   "cell_type": "code",
   "execution_count": 41,
   "id": "48839213",
   "metadata": {},
   "outputs": [
    {
     "data": {
      "image/png": "[encoded data removed]",
      "text/plain": [
       "<Figure size 432x288 with 1 Axes>"
      ]
     },
     "metadata": {
      "needs_background": "light"
     },
     "output_type": "display_data"
    }
   ],
   "source": [
    "sns.countplot(x=\"cp\",data=df)\n",
    "plt.xticks([0,1,2,3],[\"typical angina \",\"atypical angina\",\"non — anginal pain\",\"asymptotic\"])\n",
    "plt.title(\"Chest pain type visualization\")\n",
    "plt.xticks(rotation=20)\n",
    "plt.show()"
   ]
  },
  {
   "cell_type": "markdown",
   "id": "5abbd197",
   "metadata": {},
   "source": [
    "#Chest Pain Distribution according to target"
   ]
  },
  {
   "cell_type": "code",
   "execution_count": 42,
   "id": "38b6dead",
   "metadata": {},
   "outputs": [
    {
     "data": {
      "image/png": "[encoded data removed]",
      "text/plain": [
       "<Figure size 1080x504 with 1 Axes>"
      ]
     },
     "metadata": {
      "needs_background": "light"
     },
     "output_type": "display_data"
    }
   ],
   "source": [
    "plt.figure(figsize=(15,7))\n",
    "sns.countplot(x=\"cp\",hue=\"target\", data=df)\n",
    "plt.legend(labels=[\"No-Disease\",\"Disease\"])\n",
    "plt.title(\"Chest pain distribution according to target\")\n",
    "plt.xticks([0,1,2,3],[\"typical angina \",\"atypical angina\",\"non — anginal pain\",\"asymptotic\"])\n",
    "plt.show()"
   ]
  },
  {
   "cell_type": "code",
   "execution_count": null,
   "id": "78fd289d",
   "metadata": {},
   "outputs": [],
   "source": []
  },
  {
   "cell_type": "markdown",
   "id": "1bad402c",
   "metadata": {},
   "source": [
    "#draw correlation matrix"
   ]
  },
  {
   "cell_type": "code",
   "execution_count": 43,
   "id": "7a990db5",
   "metadata": {},
   "outputs": [
    {
     "data": {
      "text/plain": [
       "<AxesSubplot:>"
      ]
     },
     "execution_count": 43,
     "metadata": {},
     "output_type": "execute_result"
    },
    {
     "data": {
      "image/png": "[encoded data removed]",
      "text/plain": [
       "<Figure size 1224x576 with 2 Axes>"
      ]
     },
     "metadata": {
      "needs_background": "light"
     },
     "output_type": "display_data"
    }
   ],
   "source": [
    "plt.figure(figsize=(17,8))\n",
    "sns.heatmap(df.corr(),annot=True)"
   ]
  },
  {
   "cell_type": "code",
   "execution_count": 44,
   "id": "6381d426",
   "metadata": {},
   "outputs": [
    {
     "data": {
      "image/png": "[encoded data removed]",
      "text/plain": [
       "<Figure size 864x432 with 1 Axes>"
      ]
     },
     "metadata": {
      "needs_background": "light"
     },
     "output_type": "display_data"
    }
   ],
   "source": [
    "plt.figure(figsize=(12,6))\n",
    "sns.boxplot(x=df[\"sex\"],y=df[\"age\"],hue=df[\"target\"])\n",
    "plt.show()"
   ]
  },
  {
   "cell_type": "code",
   "execution_count": null,
   "id": "3a29b8f3",
   "metadata": {},
   "outputs": [],
   "source": []
  },
  {
   "cell_type": "markdown",
   "id": "38066371",
   "metadata": {},
   "source": [
    "### confusion matrix before k-optimization"
   ]
  },
  {
   "cell_type": "code",
   "execution_count": 45,
   "id": "d0fc7cff",
   "metadata": {
    "scrolled": true
   },
   "outputs": [
    {
     "data": {
      "image/png": "[encoded data removed]",
      "text/plain": [
       "<Figure size 432x288 with 2 Axes>"
      ]
     },
     "metadata": {
      "needs_background": "light"
     },
     "output_type": "display_data"
    }
   ],
   "source": [
    "cm=confusion_matrix(y_test,y_pred)\n",
    "sns.heatmap(cm,annot=True)#annot=True to annotate cells\n",
    "plt.xlabel(\"predicted\")\n",
    "plt.ylabel(\"True value\")\n",
    "plt.title(\"Confusion matrix before k-optimization\")\n",
    "plt.show()"
   ]
  },
  {
   "cell_type": "code",
   "execution_count": 46,
   "id": "ca761da7",
   "metadata": {},
   "outputs": [
    {
     "name": "stdout",
     "output_type": "stream",
     "text": [
      "              precision    recall  f1-score   support\n",
      "\n",
      "           0       0.92      0.79      0.85        28\n",
      "           1       0.84      0.94      0.89        33\n",
      "\n",
      "    accuracy                           0.87        61\n",
      "   macro avg       0.88      0.86      0.87        61\n",
      "weighted avg       0.87      0.87      0.87        61\n",
      "\n"
     ]
    }
   ],
   "source": [
    "print(classification_report(y_test,y_pred))"
   ]
  },
  {
   "cell_type": "markdown",
   "id": "ddaa2dfe",
   "metadata": {},
   "source": [
    "### confusion matrix after k-optimization"
   ]
  },
  {
   "cell_type": "code",
   "execution_count": 47,
   "id": "6b9d0ae1",
   "metadata": {},
   "outputs": [
    {
     "data": {
      "image/png": "[encoded data removed]",
      "text/plain": [
       "<Figure size 432x288 with 2 Axes>"
      ]
     },
     "metadata": {
      "needs_background": "light"
     },
     "output_type": "display_data"
    }
   ],
   "source": [
    "cm_mod=confusion_matrix(y_test,y_pred3)\n",
    "sns.heatmap(cm_mod,annot=True)\n",
    "plt.xlabel(\"predicted\")\n",
    "plt.ylabel(\"True value\")\n",
    "plt.title(\"Confusion matrix after k-optimization\")\n",
    "plt.show()"
   ]
  },
  {
   "cell_type": "code",
   "execution_count": 48,
   "id": "4b2b2eb1",
   "metadata": {
    "scrolled": true
   },
   "outputs": [
    {
     "name": "stdout",
     "output_type": "stream",
     "text": [
      "              precision    recall  f1-score   support\n",
      "\n",
      "           0       0.93      0.89      0.91        28\n",
      "           1       0.91      0.94      0.93        33\n",
      "\n",
      "    accuracy                           0.92        61\n",
      "   macro avg       0.92      0.92      0.92        61\n",
      "weighted avg       0.92      0.92      0.92        61\n",
      "\n"
     ]
    }
   ],
   "source": [
    "print(classification_report(y_test,y_pred3))"
   ]
  },
  {
   "cell_type": "markdown",
   "id": "da472eb8",
   "metadata": {},
   "source": [
    "Heart Disease Prediction System using python GUI"
   ]
  },
  {
   "cell_type": "code",
   "execution_count": 49,
   "id": "a44709f0",
   "metadata": {},
   "outputs": [
    {
     "name": "stderr",
     "output_type": "stream",
     "text": [
      "C:\\Users\\Amexo\\AppData\\Local\\Programs\\Python\\Python310\\lib\\site-packages\\sklearn\\base.py:450: UserWarning: X does not have valid feature names, but StandardScaler was fitted with feature names\n",
      "  warnings.warn(\n",
      "Exception in Tkinter callback\n",
      "Traceback (most recent call last):\n",
      "  File \"C:\\Users\\Amexo\\AppData\\Local\\Programs\\Python\\Python310\\lib\\tkinter\\__init__.py\", line 1921, in __call__\n",
      "    return self.func(*args)\n",
      "  File \"C:\\Users\\Amexo\\AppData\\Local\\Temp\\ipykernel_3808\\3450813831.py\", line 66, in predict\n",
      "    result = pkl_knn_model.predict(st.transform([[age,sex,cp,trestbp,chol,fbs,restecg,thalach,exang,oldpeak,slope,ca,thal]]))\n",
      "  File \"C:\\Users\\Amexo\\AppData\\Local\\Programs\\Python\\Python310\\lib\\site-packages\\sklearn\\preprocessing\\_data.py\", line 975, in transform\n",
      "    X = self._validate_data(\n",
      "  File \"C:\\Users\\Amexo\\AppData\\Local\\Programs\\Python\\Python310\\lib\\site-packages\\sklearn\\base.py\", line 577, in _validate_data\n",
      "    X = check_array(X, input_name=\"X\", **check_params)\n",
      "  File \"C:\\Users\\Amexo\\AppData\\Local\\Programs\\Python\\Python310\\lib\\site-packages\\sklearn\\utils\\validation.py\", line 852, in check_array\n",
      "    array = np.asarray(array, order=order, dtype=dtype)\n",
      "ValueError: could not convert string to float: 'Enter age here ?'\n",
      "C:\\Users\\Amexo\\AppData\\Local\\Programs\\Python\\Python310\\lib\\site-packages\\sklearn\\base.py:450: UserWarning: X does not have valid feature names, but StandardScaler was fitted with feature names\n",
      "  warnings.warn(\n",
      "C:\\Users\\Amexo\\AppData\\Local\\Programs\\Python\\Python310\\lib\\site-packages\\sklearn\\base.py:450: UserWarning: X does not have valid feature names, but StandardScaler was fitted with feature names\n",
      "  warnings.warn(\n",
      "C:\\Users\\Amexo\\AppData\\Local\\Programs\\Python\\Python310\\lib\\site-packages\\sklearn\\base.py:450: UserWarning: X does not have valid feature names, but StandardScaler was fitted with feature names\n",
      "  warnings.warn(\n",
      "C:\\Users\\Amexo\\AppData\\Local\\Programs\\Python\\Python310\\lib\\site-packages\\sklearn\\base.py:450: UserWarning: X does not have valid feature names, but StandardScaler was fitted with feature names\n",
      "  warnings.warn(\n"
     ]
    }
   ],
   "source": [
    "from tkinter import *\n",
    "from tkinter import ttk\n",
    "\n",
    "root=Tk()\n",
    "\n",
    "def predict():\n",
    "    age=agevar.get()\n",
    "    if sexvar.get()==\"Male\":\n",
    "        sex=1\n",
    "    else:\n",
    "       sex=0\n",
    "    if cpvar.get()=='Typical angina':\n",
    "        cp=0\n",
    "    elif cpvar.get()=='Atypical angina':\n",
    "        cp=1\n",
    "    elif cpvar.get()=='Non-anginal pain':\n",
    "        cp=2\n",
    "    else:\n",
    "        cp=3\n",
    "    trestbp=trestbpvar.get()\n",
    "    chol=cholvar.get()\n",
    "\n",
    "    if fbsvar.get()=='Yes':\n",
    "        fbs=1\n",
    "    else:\n",
    "        fbs=0\n",
    "    if restecgvar.get()=='nothing to note':\n",
    "        restecg=0\n",
    "    elif restecgvar.get()=='ST-T Wave abnormality':\n",
    "        restecg=1\n",
    "    else:\n",
    "        restecg=2\n",
    "    thalach=thalachvar.get()\n",
    "    \n",
    "    if exangvar.get()=='yes':\n",
    "        exang=1\n",
    "    else:\n",
    "        exang=0\n",
    "    oldpeak=oldpeakvar.get()\n",
    "    \n",
    "    if slopevar.get()=='Upsloping':\n",
    "        slope=0\n",
    "    elif slopevar.get()=='Flatsloping':\n",
    "        slope=1\n",
    "    else:\n",
    "        slope=2\n",
    "    if cavar.get()=='0':\n",
    "        ca=0\n",
    "    elif cavar.get()=='1':\n",
    "        ca=1\n",
    "    elif cavar.get()=='2':\n",
    "        ca=2\n",
    "    else:\n",
    "        ca=3\n",
    "    if thalvar.get()=='fixed defect':\n",
    "        thal=1\n",
    "    elif thalvar.get()=='normal':\n",
    "        thal=2\n",
    "    else:\n",
    "        thal=3\n",
    "\n",
    "    # print(age,sex,cp,trestbp,chol,fbs,restecg,thalach,exang,oldpeak,slope,ca,thal)\n",
    "    # print(st.transform([[age,sex,cp,trestbp,chol,fbs,restecg,thalach,exang,oldpeak,slope,ca,thal]]))\n",
    "    pkl_knn_model=pk.load(open('model/knn_heart_model.pkl','rb'))\n",
    "    # ['age', 'sex', 'cp', 'trestbps', 'chol', 'fbs', 'restecg', 'thalach','exang', 'oldpeak', 'slope', 'ca', 'thal']\n",
    "    result = pkl_knn_model.predict(st.transform([[age,sex,cp,trestbp,chol,fbs,restecg,thalach,exang,oldpeak,slope,ca,thal]]))\n",
    "    if result== [0]:\n",
    "        resvar.set(\"This person has not heart disease\")\n",
    "    else:\n",
    "        resvar.set(\"This person has heart disease \")\n",
    "\n",
    "\n",
    "\n",
    "\n",
    "\n",
    "def clear_field():\n",
    "    age_entry.delete(0,END)\n",
    "    sex_entry.delete(0,END)\n",
    "    cp_entry.delete(0,END)\n",
    "    trestbp_entry.delete(0,END)\n",
    "    chol_entry.delete(0,END)\n",
    "    fbs_entry.delete(0,END)\n",
    "    restecg_entry.delete(0,END)\n",
    "    thalach_entry.delete(0,END)\n",
    "    exang_entry.delete(0,END)\n",
    "    oldpeak_entry.delete(0,END)\n",
    "    slope_entry.delete(0,END)\n",
    "    ca_entry.delete(0,END)\n",
    "    thal_entry.delete(0,END)\n",
    "\n",
    "\n",
    "frame1=Frame(root,bg=\"#484848\")\n",
    "titlelbl=Label(frame1,text=\"Heart Disease Prediction System\",font=(\"times new roman\",30,\"bold\"),bg=\"#484848\",fg=\"white\")\n",
    "titlelbl.pack(pady=7)\n",
    "frame1.pack(side=TOP,fill=BOTH)\n",
    "\n",
    "frame2=LabelFrame(root,bg=\"#F0F0F0\",text=\"                                      CHECK YOUR HEART                                      \",\n",
    "font=(\"Nyala\",15,\"bold\"),bd=8)\n",
    "\n",
    "\n",
    "age=Label(frame2,text=\"Age :\",font=(\"times new roman\",15,\"bold\"))\n",
    "age.grid(row=0,column=0,sticky=E,pady=10,padx=20)\n",
    "sex=Label(frame2,text=\"Gender :\",font=(\"times new roman\",15,\"bold\"))\n",
    "sex.grid(row=0,column=2,sticky=E,pady=10,padx=20)\n",
    "\n",
    "cp=Label(frame2,text=\"Chest Pain Type :\",font=(\"times new roman\",15,\"bold\"))\n",
    "cp.grid(row=1,column=0,sticky=E,padx=20)\n",
    "trestbp=Label(frame2,text=\"Resting Blood Pressure :\",font=(\"times new roman\",15,\"bold\"))\n",
    "trestbp.grid(row=1,column=2,sticky=E,pady=5,padx=20)\n",
    "\n",
    "chol=Label(frame2,text=\"Serum Cholestrol in mg/dl :\",font=(\"times new roman\",15,\"bold\"))\n",
    "chol.grid(row=2,column=0,sticky=E,padx=20)\n",
    "fbs=Label(frame2,text=\"Fasting Blood Sugar :\",font=(\"times new roman\",15,\"bold\"))\n",
    "fbs.grid(row=2,column=2,sticky=E,padx=20)\n",
    "\n",
    "restecg=Label(frame2,text=\"Resting Electrocardiographic :\",font=(\"times new roman\",15,\"bold\"))\n",
    "restecg.grid(row=3,column=0,sticky=E,pady=5,padx=20)\n",
    "thalach=Label(frame2,text=\"Maximum Heart Rate Achieved :\",font=(\"times new roman\",15,\"bold\"))\n",
    "thalach.grid(row=3,column=2,sticky=E,pady=5,padx=20)\n",
    "\n",
    "exang=Label(frame2,text=\"Exercise Induced Angina :\",font=(\"times new roman\",15,\"bold\"))\n",
    "exang.grid(row=4,column=0,sticky=E,padx=20)\n",
    "oldpeak=Label(frame2,text=\"Oldpeak :\",font=(\"times new roman\",15,\"bold\"))\n",
    "oldpeak.grid(row=4,column=2,sticky=E,padx=20)\n",
    "\n",
    "slope=Label(frame2,text=\"slope :\",font=(\"times new roman\",15,\"bold\"))\n",
    "slope.grid(row=5,column=0,sticky=E,pady=5,padx=20)\n",
    "ca=Label(frame2,text=\"Number of major vessels :\",font=(\"times new roman\",15,\"bold\"))\n",
    "ca.grid(row=5,column=2,sticky=E,padx=20)\n",
    "\n",
    "thal=Label(frame2,text=\"Thal :\",font=(\"times new roman\",15,\"bold\"))\n",
    "thal.grid(row=6,column=0,sticky=E,padx=20)\n",
    "\n",
    "# entry variables\n",
    "agevar=StringVar()\n",
    "sexvar=StringVar()\n",
    "cpvar=StringVar()\n",
    "trestbpvar=StringVar()\n",
    "cholvar=StringVar()\n",
    "fbsvar=StringVar()\n",
    "restecgvar=StringVar()\n",
    "thalachvar=StringVar()\n",
    "exangvar=StringVar()\n",
    "oldpeakvar=StringVar()\n",
    "slopevar=StringVar()\n",
    "cavar=StringVar()\n",
    "thalvar=StringVar()\n",
    "\n",
    "resvar=StringVar()\n",
    "\n",
    "\n",
    "# Entry field\n",
    "age_entry=Entry(frame2,font=(\"times new roman\",12),width=22,textvariable=agevar,validate='key')\n",
    "age_entry.grid(row=0,column=1,sticky=E,pady=5)\n",
    "age_entry.insert(0,\"Enter age here ?\")\n",
    "age_entry.bind(\"<FocusIn>\",lambda args: age_entry.delete(0,END))\n",
    "\n",
    "sex_choice=['Male','Female']\n",
    "sex_entry=ttk.Combobox(frame2,font=(\"times new roman\",12),textvariable=sexvar,values=sex_choice)\n",
    "sex_entry.grid(row=0,column=3,sticky=E,padx=25)\n",
    "sex_entry.insert(0,\"choice gender here ?\")\n",
    "\n",
    "\n",
    "cp_choice=['Typical angina','Atypical angina','Non-angina pain','Asymptomatic']\n",
    "cp_entry=ttk.Combobox(frame2,font=(\"times new roman\",12),textvariable=cpvar,values=cp_choice)\n",
    "cp_entry.grid(row=1,column=1,sticky=E)\n",
    "cp_entry.insert(0,\"choice chest pain type here ?\")\n",
    "\n",
    "trestbp_entry=Entry(frame2,font=(\"times new roman\",12),width=22,textvariable=trestbpvar,validate='key')\n",
    "trestbp_entry.grid(row=1,column=3,sticky=E,padx=25)\n",
    "trestbp_entry.insert(0,\"Enter tresting Blood Pressure here ?\")\n",
    "trestbp_entry.bind(\"<FocusIn>\",lambda args: trestbp_entry.delete(0,END))\n",
    "\n",
    "\n",
    "chol_entry=Entry(frame2,font=(\"times new roman\",12),width=22,textvariable=cholvar,validate='key')\n",
    "chol_entry.grid(row=2,column=1,sticky=E,pady=5)\n",
    "chol_entry.insert(0,\"serum cholestoral in mg/dl??\")\n",
    "chol_entry.bind(\"<FocusIn>\",lambda args: chol_entry.delete(0,END))\n",
    "\n",
    "fbs_choice=['Yes','No']\n",
    "fbs_entry=ttk.Combobox(frame2,font=(\"times new roman\",12),textvariable=fbsvar,values=fbs_choice)\n",
    "fbs_entry.grid(row=2,column=3,sticky=E,padx=25)\n",
    "fbs_entry.insert(0,\"fasting blood sugar > 120 mg/dl??\")\n",
    "\n",
    "\n",
    "restecg_choice=['Nothing to note','ST-T Wave abnormality','left ventricular hypertropy']\n",
    "restecg_entry=ttk.Combobox(frame2,font=(\"times new roman\",12),textvariable=restecgvar,values=restecg_choice)\n",
    "restecg_entry.grid(row=3,column=1,sticky=E)\n",
    "restecg_entry.insert(0,\"resting electrocardiographic results ???\")\n",
    "\n",
    "thalach_entry=Entry(frame2,font=(\"times new roman\",12),width=22,textvariable=thalachvar)\n",
    "thalach_entry.grid(row=3,column=3,sticky=E,padx=25)\n",
    "thalach_entry.insert(0,\"maximum heart rate ???\")\n",
    "thalach_entry.bind(\"<FocusIn>\",lambda args: thalach_entry.delete(0,END))\n",
    "\n",
    "\n",
    "exang_choice=['yes','no']\n",
    "exang_entry=ttk.Combobox(frame2,font=(\"times new roman\",12),textvariable=exangvar,values=exang_choice)\n",
    "exang_entry.grid(row=4,column=1,sticky=E)\n",
    "exang_entry.insert(0,\"exercise induced angina ?\")\n",
    "\n",
    "oldpeak_entry=Entry(frame2,font=(\"times new roman\",12),width=22,textvariable=oldpeakvar,validate='key')\n",
    "oldpeak_entry.grid(row=4,column=3,sticky=E,pady=5,padx=25)\n",
    "oldpeak_entry.insert(0,\"ST depression induced by exercise relative to rest\")\n",
    "oldpeak_entry.bind(\"<FocusIn>\",lambda args: oldpeak_entry.delete(0,END))\n",
    "\n",
    "\n",
    "slope_choice=['Upsloping','Flatsloping','Downsloping']\n",
    "slope_entry=ttk.Combobox(frame2,font=(\"times new roman\",12),textvariable=slopevar,values=slope_choice)\n",
    "slope_entry.grid(row=5,column=1,sticky=E)\n",
    "slope_entry.insert(0,\"the slope of the peak exercise ST segment??\")\n",
    "\n",
    "ca_choice=['0','1','2','3']\n",
    "ca_entry=ttk.Combobox(frame2,font=(\"times new roman\",12),textvariable=cavar,values=ca_choice)\n",
    "ca_entry.grid(row=5,column=3,sticky=E,padx=25)\n",
    "ca_entry.insert(0,\"number of major vessels(0-3)\")\n",
    "\n",
    "thal_choice=['fixed defect','normal','reversable defect']\n",
    "thal_entry=ttk.Combobox(frame2,font=(\"times new roman\",12),textvariable=thalvar,values=thal_choice)\n",
    "thal_entry.grid(row=6,column=1,sticky=E)\n",
    "thal_entry.insert(0,\"choice thal here ??\")\n",
    "\n",
    "checkbtn=Button(frame2,text=\"predict\",bd=4,width=10,font=(\"times new roman\",16,\"bold\"),bg=\"green\",fg=\"white\",command=predict)\n",
    "checkbtn.grid(row=7,column=1,pady=20)\n",
    "\n",
    "clearbtn=Button(frame2,text=\"Clear\",bd=4,width=10,font=(\"times new roman\",16,\"bold\"),bg=\"#ff0055\",fg=\"white\",command=clear_field)\n",
    "clearbtn.grid(row=7,column=2,pady=20)\n",
    "\n",
    "res=Label(frame2,text=\"Result\", font=(\"times new roman\",15,\"bold\"),bg=\"white\",fg=\"red\",bd=7,textvariable=resvar)\n",
    "res.grid(row=8,columnspan=3)\n",
    "\n",
    "frame2.pack(side=LEFT,fill=BOTH,expand=True,pady=20)\n",
    "\n",
    "\n",
    "root.geometry(\"1080x530+0+0\")\n",
    "root.title(\"Machine Learning project on Heart Disease Prediction\")\n",
    "root.resizable(0,0)\n",
    "\n",
    "root.mainloop()"
   ]
  },
  {
   "cell_type": "code",
   "execution_count": null,
   "id": "1dc1098f",
   "metadata": {},
   "outputs": [],
   "source": []
  },
  {
   "cell_type": "code",
   "execution_count": null,
   "id": "e0527963",
   "metadata": {},
   "outputs": [],
   "source": []
  },
  {
   "cell_type": "code",
   "execution_count": null,
   "id": "197db161",
   "metadata": {},
   "outputs": [],
   "source": []
  }
 ],
 "metadata": {
  "kernelspec": {
   "display_name": "Python 3 (ipykernel)",
   "language": "python",
   "name": "python3"
  },
  "language_info": {
   "codemirror_mode": {
    "name": "ipython",
    "version": 3
   },
   "file_extension": ".py",
   "mimetype": "text/x-python",
   "name": "python",
   "nbconvert_exporter": "python",
   "pygments_lexer": "ipython3",
   "version": "3.10.4"
  },
  "vscode": {
   "interpreter": {
    "hash": "52bd791581004df6f2e5804d7109d1aa353db20c1c65647a8444b080eaf26be7"
   }
  }
 },
 "nbformat": 4,
 "nbformat_minor": 5
}
